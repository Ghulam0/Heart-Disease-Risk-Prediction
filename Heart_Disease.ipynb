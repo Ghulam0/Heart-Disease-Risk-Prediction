{
  "nbformat": 4,
  "nbformat_minor": 0,
  "metadata": {
    "colab": {
      "provenance": [],
      "gpuType": "T4"
    },
    "kernelspec": {
      "name": "python3",
      "display_name": "Python 3"
    },
    "language_info": {
      "name": "python"
    },
    "accelerator": "GPU"
  },
  "cells": [
    {
      "cell_type": "code",
      "execution_count": 9,
      "metadata": {
        "id": "wEErrr4luQtS"
      },
      "outputs": [],
      "source": [
        "from sklearn.linear_model import LogisticRegression\n",
        "from sklearn.model_selection import train_test_split\n",
        "from sklearn.metrics import accuracy_score, confusion_matrix, classification_report\n",
        "import pandas as pd\n",
        "import matplotlib.pyplot as plt\n",
        "import seaborn as sns"
      ]
    },
    {
      "cell_type": "code",
      "source": [
        "# Load the dataset (assuming you're using the UCI Heart Disease dataset)\n",
        "data = '/content/heart_disease_dataset.csv'\n",
        "df = pd.read_csv(data)\n",
        "\n",
        "# Display first few rows to check the data\n",
        "print(df.head())\n"
      ],
      "metadata": {
        "colab": {
          "base_uri": "https://localhost:8080/"
        },
        "id": "YFcJ08_3ug1k",
        "outputId": "02764127-5658-43fb-d0d3-b545450ef089"
      },
      "execution_count": 10,
      "outputs": [
        {
          "output_type": "stream",
          "name": "stdout",
          "text": [
            "   Age  Gender  Cholesterol  Blood Pressure  Heart Rate  Smoking  \\\n",
            "0   75  Female          228             119          66  Current   \n",
            "1   48    Male          204             165          62  Current   \n",
            "2   53    Male          234              91          67    Never   \n",
            "3   69  Female          192              90          72  Current   \n",
            "4   62  Female          172             163          93    Never   \n",
            "\n",
            "  Alcohol Intake  Exercise Hours Family History Diabetes Obesity  \\\n",
            "0          Heavy               1             No       No     Yes   \n",
            "1            NaN               5             No       No      No   \n",
            "2          Heavy               3            Yes       No     Yes   \n",
            "3            NaN               4             No      Yes      No   \n",
            "4            NaN               6             No      Yes      No   \n",
            "\n",
            "   Stress Level  Blood Sugar Exercise Induced Angina   Chest Pain Type  \\\n",
            "0             8          119                     Yes   Atypical Angina   \n",
            "1             9           70                     Yes    Typical Angina   \n",
            "2             5          196                     Yes   Atypical Angina   \n",
            "3             7          107                     Yes  Non-anginal Pain   \n",
            "4             2          183                     Yes      Asymptomatic   \n",
            "\n",
            "   Heart Disease  \n",
            "0              1  \n",
            "1              0  \n",
            "2              1  \n",
            "3              0  \n",
            "4              0  \n"
          ]
        }
      ]
    },
    {
      "cell_type": "code",
      "source": [
        "# Handle missing values (drop or fill with median/mean for numerical, mode for categorical)\n",
        "df = df.dropna()  # Drop rows with any missing values (or choose to fill if necessary)\n",
        "\n",
        "# Encoding categorical features using pandas map or get_dummies (depending on the number of categories)\n",
        "df['Gender'] = df['Gender'].map({'Male': 1, 'Female': 0})\n",
        "df['Smoking'] = df['Smoking'].map({'Current': 1, 'Never': 0, 'Former': 2})\n",
        "df['Alcohol Intake'] = df['Alcohol Intake'].map({'Heavy': 1, 'Moderate': 2, 'NaN': 0})\n",
        "df['Family History'] = df['Family History'].map({'Yes': 1, 'No': 0})\n",
        "df['Diabetes'] = df['Diabetes'].map({'Yes': 1, 'No': 0})\n",
        "df['Obesity'] = df['Obesity'].map({'Yes': 1, 'No': 0})\n",
        "df['Exercise Induced Angina'] = df['Exercise Induced Angina'].map({'Yes': 1, 'No': 0})\n",
        "df['Chest Pain Type'] = df['Chest Pain Type'].map({\n",
        "    'Atypical Angina': 0,\n",
        "    'Typical Angina': 1,\n",
        "    'Non-anginal Pain': 2,\n",
        "    'Asymptomatic': 3\n",
        "})\n",
        "\n",
        "# Checking data types and null values after preprocessing\n",
        "print(df.info())\n",
        "\n",
        "# Split the dataset into features (X) and target (y)\n",
        "X = df.drop('Heart Disease', axis=1)\n",
        "y = df['Heart Disease']\n"
      ],
      "metadata": {
        "colab": {
          "base_uri": "https://localhost:8080/"
        },
        "id": "f1_V8eT2vZRA",
        "outputId": "c714fb19-e975-48ee-f382-05f90cc8a4ff"
      },
      "execution_count": 11,
      "outputs": [
        {
          "output_type": "stream",
          "name": "stdout",
          "text": [
            "<class 'pandas.core.frame.DataFrame'>\n",
            "Index: 660 entries, 0 to 997\n",
            "Data columns (total 16 columns):\n",
            " #   Column                   Non-Null Count  Dtype\n",
            "---  ------                   --------------  -----\n",
            " 0   Age                      660 non-null    int64\n",
            " 1   Gender                   660 non-null    int64\n",
            " 2   Cholesterol              660 non-null    int64\n",
            " 3   Blood Pressure           660 non-null    int64\n",
            " 4   Heart Rate               660 non-null    int64\n",
            " 5   Smoking                  660 non-null    int64\n",
            " 6   Alcohol Intake           660 non-null    int64\n",
            " 7   Exercise Hours           660 non-null    int64\n",
            " 8   Family History           660 non-null    int64\n",
            " 9   Diabetes                 660 non-null    int64\n",
            " 10  Obesity                  660 non-null    int64\n",
            " 11  Stress Level             660 non-null    int64\n",
            " 12  Blood Sugar              660 non-null    int64\n",
            " 13  Exercise Induced Angina  660 non-null    int64\n",
            " 14  Chest Pain Type          660 non-null    int64\n",
            " 15  Heart Disease            660 non-null    int64\n",
            "dtypes: int64(16)\n",
            "memory usage: 87.7 KB\n",
            "None\n"
          ]
        },
        {
          "output_type": "stream",
          "name": "stderr",
          "text": [
            "<ipython-input-11-8a18aa72a80e>:5: SettingWithCopyWarning: \n",
            "A value is trying to be set on a copy of a slice from a DataFrame.\n",
            "Try using .loc[row_indexer,col_indexer] = value instead\n",
            "\n",
            "See the caveats in the documentation: https://pandas.pydata.org/pandas-docs/stable/user_guide/indexing.html#returning-a-view-versus-a-copy\n",
            "  df['Gender'] = df['Gender'].map({'Male': 1, 'Female': 0})\n",
            "<ipython-input-11-8a18aa72a80e>:6: SettingWithCopyWarning: \n",
            "A value is trying to be set on a copy of a slice from a DataFrame.\n",
            "Try using .loc[row_indexer,col_indexer] = value instead\n",
            "\n",
            "See the caveats in the documentation: https://pandas.pydata.org/pandas-docs/stable/user_guide/indexing.html#returning-a-view-versus-a-copy\n",
            "  df['Smoking'] = df['Smoking'].map({'Current': 1, 'Never': 0, 'Former': 2})\n",
            "<ipython-input-11-8a18aa72a80e>:7: SettingWithCopyWarning: \n",
            "A value is trying to be set on a copy of a slice from a DataFrame.\n",
            "Try using .loc[row_indexer,col_indexer] = value instead\n",
            "\n",
            "See the caveats in the documentation: https://pandas.pydata.org/pandas-docs/stable/user_guide/indexing.html#returning-a-view-versus-a-copy\n",
            "  df['Alcohol Intake'] = df['Alcohol Intake'].map({'Heavy': 1, 'Moderate': 2, 'NaN': 0})\n",
            "<ipython-input-11-8a18aa72a80e>:8: SettingWithCopyWarning: \n",
            "A value is trying to be set on a copy of a slice from a DataFrame.\n",
            "Try using .loc[row_indexer,col_indexer] = value instead\n",
            "\n",
            "See the caveats in the documentation: https://pandas.pydata.org/pandas-docs/stable/user_guide/indexing.html#returning-a-view-versus-a-copy\n",
            "  df['Family History'] = df['Family History'].map({'Yes': 1, 'No': 0})\n",
            "<ipython-input-11-8a18aa72a80e>:9: SettingWithCopyWarning: \n",
            "A value is trying to be set on a copy of a slice from a DataFrame.\n",
            "Try using .loc[row_indexer,col_indexer] = value instead\n",
            "\n",
            "See the caveats in the documentation: https://pandas.pydata.org/pandas-docs/stable/user_guide/indexing.html#returning-a-view-versus-a-copy\n",
            "  df['Diabetes'] = df['Diabetes'].map({'Yes': 1, 'No': 0})\n",
            "<ipython-input-11-8a18aa72a80e>:10: SettingWithCopyWarning: \n",
            "A value is trying to be set on a copy of a slice from a DataFrame.\n",
            "Try using .loc[row_indexer,col_indexer] = value instead\n",
            "\n",
            "See the caveats in the documentation: https://pandas.pydata.org/pandas-docs/stable/user_guide/indexing.html#returning-a-view-versus-a-copy\n",
            "  df['Obesity'] = df['Obesity'].map({'Yes': 1, 'No': 0})\n",
            "<ipython-input-11-8a18aa72a80e>:11: SettingWithCopyWarning: \n",
            "A value is trying to be set on a copy of a slice from a DataFrame.\n",
            "Try using .loc[row_indexer,col_indexer] = value instead\n",
            "\n",
            "See the caveats in the documentation: https://pandas.pydata.org/pandas-docs/stable/user_guide/indexing.html#returning-a-view-versus-a-copy\n",
            "  df['Exercise Induced Angina'] = df['Exercise Induced Angina'].map({'Yes': 1, 'No': 0})\n",
            "<ipython-input-11-8a18aa72a80e>:12: SettingWithCopyWarning: \n",
            "A value is trying to be set on a copy of a slice from a DataFrame.\n",
            "Try using .loc[row_indexer,col_indexer] = value instead\n",
            "\n",
            "See the caveats in the documentation: https://pandas.pydata.org/pandas-docs/stable/user_guide/indexing.html#returning-a-view-versus-a-copy\n",
            "  df['Chest Pain Type'] = df['Chest Pain Type'].map({\n"
          ]
        }
      ]
    },
    {
      "cell_type": "code",
      "source": [
        "# Train-test split\n",
        "X_train, X_test, y_train, y_test = train_test_split(X, y, test_size=0.2, random_state=42)\n"
      ],
      "metadata": {
        "id": "cgNCtIgpvcF_"
      },
      "execution_count": 12,
      "outputs": []
    },
    {
      "cell_type": "code",
      "source": [
        "# Initialize the model\n",
        "model = LogisticRegression(max_iter=1000)\n",
        "\n",
        "# Train the model\n",
        "model.fit(X_train, y_train)\n",
        "\n",
        "# Predict on the test data\n",
        "y_pred = model.predict(X_test)\n",
        "\n",
        "# Evaluate the model\n",
        "print(f'Accuracy: {accuracy_score(y_test, y_pred)}')\n",
        "print(f'Confusion Matrix:\\n{confusion_matrix(y_test, y_pred)}')\n",
        "print(f'Classification Report:\\n{classification_report(y_test, y_pred)}')\n"
      ],
      "metadata": {
        "colab": {
          "base_uri": "https://localhost:8080/"
        },
        "id": "WmCV-_-5wbfl",
        "outputId": "a2b6b757-5123-4a18-8dee-e9e7cc483948"
      },
      "execution_count": 13,
      "outputs": [
        {
          "output_type": "stream",
          "name": "stdout",
          "text": [
            "Accuracy: 0.8560606060606061\n",
            "Confusion Matrix:\n",
            "[[65  8]\n",
            " [11 48]]\n",
            "Classification Report:\n",
            "              precision    recall  f1-score   support\n",
            "\n",
            "           0       0.86      0.89      0.87        73\n",
            "           1       0.86      0.81      0.83        59\n",
            "\n",
            "    accuracy                           0.86       132\n",
            "   macro avg       0.86      0.85      0.85       132\n",
            "weighted avg       0.86      0.86      0.86       132\n",
            "\n"
          ]
        },
        {
          "output_type": "stream",
          "name": "stderr",
          "text": [
            "/usr/local/lib/python3.11/dist-packages/sklearn/linear_model/_logistic.py:465: ConvergenceWarning: lbfgs failed to converge (status=1):\n",
            "STOP: TOTAL NO. of ITERATIONS REACHED LIMIT.\n",
            "\n",
            "Increase the number of iterations (max_iter) or scale the data as shown in:\n",
            "    https://scikit-learn.org/stable/modules/preprocessing.html\n",
            "Please also refer to the documentation for alternative solver options:\n",
            "    https://scikit-learn.org/stable/modules/linear_model.html#logistic-regression\n",
            "  n_iter_i = _check_optimize_result(\n"
          ]
        }
      ]
    },
    {
      "cell_type": "code",
      "source": [
        "# Confusion Matrix Plot\n",
        "sns.heatmap(confusion_matrix(y_test, y_pred), annot=True, fmt='d', cmap='Blues')\n",
        "plt.title('Confusion Matrix')\n",
        "plt.xlabel('Predicted')\n",
        "plt.ylabel('True')\n",
        "plt.show()\n"
      ],
      "metadata": {
        "colab": {
          "base_uri": "https://localhost:8080/",
          "height": 472
        },
        "id": "iv7Ldu1pwezJ",
        "outputId": "441fb940-9400-4e85-aaa4-af72b6523cba"
      },
      "execution_count": 14,
      "outputs": [
        {
          "output_type": "display_data",
          "data": {
            "text/plain": [
              "<Figure size 640x480 with 2 Axes>"
            ],
            "image/png": "[encoded data removed]"
          },
          "metadata": {}
        }
      ]
    },
    {
      "cell_type": "code",
      "source": [],
      "metadata": {
        "id": "zPrvsuGFwieK"
      },
      "execution_count": 14,
      "outputs": []
    }
  ]
}